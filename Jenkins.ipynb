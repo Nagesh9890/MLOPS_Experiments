{
  "nbformat": 4,
  "nbformat_minor": 0,
  "metadata": {
    "colab": {
      "provenance": []
    },
    "kernelspec": {
      "name": "python3",
      "display_name": "Python 3"
    },
    "language_info": {
      "name": "python"
    }
  },
  "cells": [
    {
      "cell_type": "code",
      "execution_count": 4,
      "metadata": {
        "colab": {
          "base_uri": "https://localhost:8080/",
          "height": 133
        },
        "id": "jSictQaww1Sd",
        "outputId": "5bd3201b-97fe-4e74-cb16-87821e4b3eaa"
      },
      "outputs": [
        {
          "output_type": "error",
          "ename": "SyntaxError",
          "evalue": "ignored",
          "traceback": [
            "\u001b[0;36m  File \u001b[0;32m\"<ipython-input-4-a4ab0f8ac80f>\"\u001b[0;36m, line \u001b[0;32m14\u001b[0m\n\u001b[0;31m    ${SPARK_HOME}/bin/spark-submit \\\u001b[0m\n\u001b[0m    ^\u001b[0m\n\u001b[0;31mSyntaxError\u001b[0m\u001b[0;31m:\u001b[0m invalid syntax\n"
          ]
        }
      ],
      "source": [
        "# Get Triggered if accurancy goes below 80 %\n",
        "\n",
        "#!/bin/bash\n",
        "\n",
        "# Define variables\n",
        "KAFKA_TOPIC=\"my_topic\"\n",
        "MLFLOW_SERVER=\"http://localhost:5000\"\n",
        "MODEL_DIR=\"/path/to/model\"\n",
        "SPARK_HOME=\"/path/to/spark\"\n",
        "JAR_FILE=\"/path/to/my_job.jar\"\n",
        "\n",
        "# Activate virtual environment (if necessary)\n",
        "# source /path/to/venv/bin/activate\n",
        "\n",
        "# Start the Spark job\n",
        "${SPARK_HOME}/bin/spark-submit \\\n",
        "  --class com.mycompany.myjob.Main \\\n",
        "  --master yarn \\\n",
        "  --deploy-mode client \\\n",
        "  ${JAR_FILE} \\\n",
        "  --kafka-topic ${KAFKA_TOPIC} \\\n",
        "  --mlflow-server ${MLFLOW_SERVER}\n",
        "\n",
        "# Save the trained model to MLflow\n",
        "python /path/to/mlflow/save_model.py \\\n",
        "  --model-dir ${MODEL_DIR} \\\n",
        "  --mlflow-server ${MLFLOW_SERVER}\n",
        "\n",
        "# Deploy the trained model\n",
        "python /path/to/deploy_model.py \\\n",
        "  --model-uri ${MLFLOW_SERVER}/models/my_model \\\n",
        "  --deploy-args \"--port 8080\"\n",
        "\n",
        "# Deactivate virtual environment (if necessary)\n",
        "# deactivate\n"
      ]
    },
    {
      "cell_type": "code",
      "source": [
        "# Jenkinsfile\n",
        "\n",
        "pipeline {\n",
        "    agent any\n",
        "    triggers {\n",
        "        cron('*/30 * * * *')\n",
        "    }\n",
        "    stages {\n",
        "        stage('Check accuracy') {\n",
        "            steps {\n",
        "                script {\n",
        "                    accuracy = sh(script: \"python /path/to/mlflow/get_metric.py --metric-name accuracy --mlflow-server ${MLFLOW_SERVER}\", returnStdout: true).trim()\n",
        "                    if (accuracy.toFloat() < 0.8) {\n",
        "                        sh 'bash /path/to/mlops_pipeline.sh'\n",
        "                    }\n",
        "                }\n",
        "            }\n",
        "        }\n",
        "    }\n",
        "}"
      ],
      "metadata": {
        "colab": {
          "base_uri": "https://localhost:8080/",
          "height": 133
        },
        "id": "gq79a1ry0Cu3",
        "outputId": "979d2ab3-6f95-4a1a-8693-fa65a828e3f8"
      },
      "execution_count": 5,
      "outputs": [
        {
          "output_type": "error",
          "ename": "SyntaxError",
          "evalue": "ignored",
          "traceback": [
            "\u001b[0;36m  File \u001b[0;32m\"<ipython-input-5-9d6061bb9419>\"\u001b[0;36m, line \u001b[0;32m3\u001b[0m\n\u001b[0;31m    pipeline {\u001b[0m\n\u001b[0m             ^\u001b[0m\n\u001b[0;31mSyntaxError\u001b[0m\u001b[0;31m:\u001b[0m invalid syntax\n"
          ]
        }
      ]
    },
    {
      "cell_type": "code",
      "source": [
        "# Get Triggered every 30 Minutes \n",
        "#!/bin/bash\n",
        "\n",
        "# Define variables\n",
        "KAFKA_TOPIC=\"my_topic\"\n",
        "MLFLOW_SERVER=\"http://localhost:5000\"\n",
        "MODEL_DIR=\"/path/to/model\"\n",
        "SPARK_HOME=\"/path/to/spark\"\n",
        "JAR_FILE=\"/path/to/my_job.jar\"\n",
        "ACCURACY_THRESHOLD=0.8\n",
        "\n",
        "# Activate virtual environment (if necessary)\n",
        "# source /path/to/venv/bin/activate\n",
        "\n",
        "# Start the Spark job\n",
        "${SPARK_HOME}/bin/spark-submit \\\n",
        "  --class com.mycompany.myjob.Main \\\n",
        "  --master yarn \\\n",
        "  --deploy-mode client \\\n",
        "  ${JAR_FILE} \\\n",
        "  --kafka-topic ${KAFKA_TOPIC} \\\n",
        "  --mlflow-server ${MLFLOW_SERVER}\n",
        "\n",
        "# Get the latest accuracy metric from MLflow\n",
        "latest_accuracy=$(python /path/to/mlflow/get_metric.py \\\n",
        "  --metric-name accuracy \\\n",
        "  --mlflow-server ${MLFLOW_SERVER})\n",
        "\n",
        "# Check if accuracy is below the threshold\n",
        "if (( $(echo \"$latest_accuracy < $ACCURACY_THRESHOLD\" | bc -l) )); then\n",
        "  echo \"Accuracy is below the threshold of ${ACCURACY_THRESHOLD}!\"\n",
        "  \n",
        "  # Save the trained model to MLflow\n",
        "  python /path/to/mlflow/save_model.py \\\n",
        "    --model-dir ${MODEL_DIR} \\\n",
        "    --mlflow-server ${MLFLOW_SERVER}\n",
        "\n",
        "  # Deploy the trained model\n",
        "  python /path/to/deploy_model.py \\\n",
        "    --model-uri ${MLFLOW_SERVER}/models/my_model \\\n",
        "    --deploy-args \"--port 8080\"\n",
        "fi\n",
        "\n",
        "# Deactivate virtual environment (if necessary)\n",
        "# deactivate\n",
        "# Jenkinsfile\n",
        "\n",
        "pipeline {\n",
        "    agent any\n",
        "    triggers {\n",
        "        cron('*/30 * * * *')\n",
        "    }\n",
        "    stages {\n",
        "        stage('Run MLOps pipeline') {\n",
        "            steps {\n",
        "                sh 'bash /path/to/mlops_pipeline.sh'\n",
        "            }\n",
        "        }\n",
        "    }\n",
        "}"
      ],
      "metadata": {
        "id": "pMucTlsS0kZ1"
      },
      "execution_count": 6,
      "outputs": []
    },
    {
      "cell_type": "code",
      "source": [],
      "metadata": {
        "id": "hLtEW5ik06hD"
      },
      "execution_count": 6,
      "outputs": []
    }
  ]
}